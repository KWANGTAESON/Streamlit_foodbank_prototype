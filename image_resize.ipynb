{
 "cells": [
  {
   "cell_type": "code",
   "execution_count": 5,
   "id": "f5582694-3ff2-498f-b555-decca745e9e1",
   "metadata": {},
   "outputs": [],
   "source": [
    "# 이미지 크기 줄이기\n",
    "from PIL import Image\n",
    "\n",
    "# 원본 이미지 열기\n",
    "image = Image.open('ktlogo2.png')\n",
    "\n",
    "# 이미지 크기 조정\n",
    "resized_image = image.resize((280, 60))\n",
    "\n",
    "# 조정된 이미지 저장\n",
    "resized_image.save('ktlogo.png')"
   ]
  },
  {
   "cell_type": "code",
   "execution_count": null,
   "id": "4a234c79-60e7-4851-b116-723341599459",
   "metadata": {},
   "outputs": [],
   "source": []
  }
 ],
 "metadata": {
  "kernelspec": {
   "display_name": "Python 3 (ipykernel)",
   "language": "python",
   "name": "python3"
  },
  "language_info": {
   "codemirror_mode": {
    "name": "ipython",
    "version": 3
   },
   "file_extension": ".py",
   "mimetype": "text/x-python",
   "name": "python",
   "nbconvert_exporter": "python",
   "pygments_lexer": "ipython3",
   "version": "3.9.13"
  }
 },
 "nbformat": 4,
 "nbformat_minor": 5
}
