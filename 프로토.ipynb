{
 "cells": [
  {
   "cell_type": "markdown",
   "id": "24e8138c-1dde-4763-a5fa-e47a8e9e950f",
   "metadata": {},
   "source": [
    "# 프로토타입에 필요한 함수 생성 및 분석 (KT AIVLE 빅프로젝트)\n",
    "- 데이터 간 상관 관계를 확인하고 무엇을 뽑아낼 수 있을지 고민해보자.\n",
    "- 웹 화면에서 잘 동작하기 위한 함수를 생성해보자.\n",
    "- 웹 화면에 표시할 지도 함수를 생성해보자.\n",
    "- 데이터를 이용하여 그래프를 어디에 사용하면 좋을 지 생각해보자.\n",
    "- 생성한 함수들 정리하자."
   ]
  },
  {
   "cell_type": "markdown",
   "id": "f34b77ce-2b01-4e5c-94b8-20657b62326c",
   "metadata": {
    "tags": []
   },
   "source": [
    "## 1. 제공현황데이터"
   ]
  },
  {
   "cell_type": "code",
   "execution_count": null,
   "id": "3dec893f-8f35-445c-995a-e8727437df63",
   "metadata": {},
   "outputs": [],
   "source": [
    "import pandas as pd\n",
    "import seaborn as sns\n",
    "import matplotlib.pyplot as plt\n",
    "\n",
    "# 경고 제거\n",
    "import warnings\n",
    "warnings.filterwarnings(\"ignore\")\n",
    "\n",
    "# 시각화 한글폰트 설정\n",
    "plt.rc('font', family='Malgun Gothic')\n",
    "sns.set(font=\"Malgun Gothic\",#\"NanumGothicCoding\", \n",
    "rc={\"axes.unicode_minus\":False}, # 마이너스 부호 깨짐 현상 해결\n",
    "style='darkgrid')\n",
    "\n",
    "data1 = pd.read_csv('5. 부산제공현황통계데이터(2017~2022년).csv', encoding='cp949')\n",
    "data1.tail(2)"
   ]
  },
  {
   "cell_type": "code",
   "execution_count": null,
   "id": "69ee03e2-3b74-4c55-96c6-3591e74380ea",
   "metadata": {},
   "outputs": [],
   "source": [
    "data1['기부물품대분류코드'].unique()"
   ]
  },
  {
   "cell_type": "code",
   "execution_count": null,
   "id": "e9ed15d6-53d4-4c46-8d29-07f4755e10bb",
   "metadata": {},
   "outputs": [],
   "source": [
    "data1[data1['기부물품대분류코드']=='의류/패션잡화']"
   ]
  },
  {
   "cell_type": "markdown",
   "id": "fd2fd74e-bcda-4ef2-8ccd-95f7e7a46bb7",
   "metadata": {},
   "source": [
    "## 2. 기부자정보 데이터"
   ]
  },
  {
   "cell_type": "code",
   "execution_count": null,
   "id": "5e594424-ddbe-4d66-a9a7-56beef12d7f3",
   "metadata": {},
   "outputs": [],
   "source": [
    "main_val = {'S02501':'부산광역푸드뱅크',\n",
    "            'S03701':'강서구기초푸드뱅크',\n",
    "            'S64801':'강서구기초푸드마켓',\n",
    "            'S03601':'금정구기초푸드뱅크',\n",
    "            'S51401':'금정구푸드마켓',\n",
    "            'S04101':'기장군기초푸드뱅크',\n",
    "            'S63901':'기장군기초푸드마켓',\n",
    "            'S03201':'남구기초푸드뱅크',\n",
    "            'S48201':'남구기초푸드마켓',\n",
    "            'S02801':'동구기초푸드뱅크',\n",
    "            'S64001':'동구기초푸드마켓',\n",
    "            'S03101':'동래구기초푸드뱅크',\n",
    "            'S40001':'동래구기초푸드마켓',\n",
    "            'S03001':'부산진구기초푸드뱅크',\n",
    "            'S50701':'부산진구기초푸드마켓',\n",
    "            'S03301':'북구기초푸드뱅크',\n",
    "            'S40101':'북구기초푸드마켓',\n",
    "            'S63301':'사상구기초푸드뱅크',\n",
    "            'S51601':'사상구기초푸드마켓',\n",
    "            'S03501':'부산사하기초푸드뱅크',\n",
    "            'S50101':'사하구기초푸드마켓',\n",
    "            'S02701':'서구기초푸드뱅크',\n",
    "            'S40301':'서구기초푸드마켓',\n",
    "            'S03901':'수영구기초푸드뱅크',\n",
    "            'S58201':'수영구기초푸드마켓',\n",
    "            'S03801':'연제구기초푸드뱅크',\n",
    "            'S64701':'연제구기초푸드마켓',\n",
    "            'S02901':'영도구기초푸드뱅크',\n",
    "            'S51501':'영도구기초푸드마켓',\n",
    "            'S02601':'중구기초푸드뱅크',\n",
    "            'S49001':'중구기초푸드마켓',\n",
    "            'S03401':'해운대기초푸드뱅크',    \n",
    "            'S40201':'해운대기초푸드마켓',    \n",
    "}"
   ]
  },
  {
   "cell_type": "code",
   "execution_count": 137,
   "id": "ed1af37c-485c-40f1-8e94-6c7625fae004",
   "metadata": {},
   "outputs": [
    {
     "data": {
      "text/html": [
       "<div>\n",
       "<style scoped>\n",
       "    .dataframe tbody tr th:only-of-type {\n",
       "        vertical-align: middle;\n",
       "    }\n",
       "\n",
       "    .dataframe tbody tr th {\n",
       "        vertical-align: top;\n",
       "    }\n",
       "\n",
       "    .dataframe thead th {\n",
       "        text-align: right;\n",
       "    }\n",
       "</style>\n",
       "<table border=\"1\" class=\"dataframe\">\n",
       "  <thead>\n",
       "    <tr style=\"text-align: right;\">\n",
       "      <th></th>\n",
       "      <th>기준년월</th>\n",
       "      <th>지역코드</th>\n",
       "      <th>통합시군구코드</th>\n",
       "      <th>지원센터코드</th>\n",
       "      <th>기부자구분코드</th>\n",
       "      <th>기부사업장종류코드</th>\n",
       "      <th>기부자명</th>\n",
       "      <th>기부금액</th>\n",
       "      <th>기부건수</th>\n",
       "      <th>기부자수</th>\n",
       "    </tr>\n",
       "  </thead>\n",
       "  <tbody>\n",
       "    <tr>\n",
       "      <th>19594</th>\n",
       "      <td>202112</td>\n",
       "      <td>부산</td>\n",
       "      <td>연제구</td>\n",
       "      <td>S64701</td>\n",
       "      <td>개인</td>\n",
       "      <td>일반가정</td>\n",
       "      <td>개인기부자</td>\n",
       "      <td>600000.0</td>\n",
       "      <td>5</td>\n",
       "      <td>5</td>\n",
       "    </tr>\n",
       "    <tr>\n",
       "      <th>19595</th>\n",
       "      <td>202112</td>\n",
       "      <td>부산</td>\n",
       "      <td>연제구</td>\n",
       "      <td>S64701</td>\n",
       "      <td>기업(개인사업자)</td>\n",
       "      <td>식품 도,소매업</td>\n",
       "      <td>하나유통</td>\n",
       "      <td>1428330.0</td>\n",
       "      <td>2</td>\n",
       "      <td>1</td>\n",
       "    </tr>\n",
       "    <tr>\n",
       "      <th>19596</th>\n",
       "      <td>202112</td>\n",
       "      <td>부산</td>\n",
       "      <td>연제구</td>\n",
       "      <td>S64701</td>\n",
       "      <td>기업(개인사업자)</td>\n",
       "      <td>기타</td>\n",
       "      <td>중앙철재</td>\n",
       "      <td>200000.0</td>\n",
       "      <td>1</td>\n",
       "      <td>1</td>\n",
       "    </tr>\n",
       "    <tr>\n",
       "      <th>19597</th>\n",
       "      <td>202112</td>\n",
       "      <td>부산</td>\n",
       "      <td>강서구</td>\n",
       "      <td>S64801</td>\n",
       "      <td>단체</td>\n",
       "      <td>식품제조,가공업</td>\n",
       "      <td>부산광역시농업기술센터</td>\n",
       "      <td>500000.0</td>\n",
       "      <td>3</td>\n",
       "      <td>1</td>\n",
       "    </tr>\n",
       "    <tr>\n",
       "      <th>19598</th>\n",
       "      <td>202112</td>\n",
       "      <td>부산</td>\n",
       "      <td>강서구</td>\n",
       "      <td>S64801</td>\n",
       "      <td>기업(개인사업자)</td>\n",
       "      <td>식품제조,가공업</td>\n",
       "      <td>코우테이</td>\n",
       "      <td>176000.0</td>\n",
       "      <td>1</td>\n",
       "      <td>1</td>\n",
       "    </tr>\n",
       "  </tbody>\n",
       "</table>\n",
       "</div>"
      ],
      "text/plain": [
       "         기준년월 지역코드 통합시군구코드  지원센터코드    기부자구분코드 기부사업장종류코드         기부자명  \\\n",
       "19594  202112   부산     연제구  S64701         개인      일반가정        개인기부자   \n",
       "19595  202112   부산     연제구  S64701  기업(개인사업자)  식품 도,소매업         하나유통   \n",
       "19596  202112   부산     연제구  S64701  기업(개인사업자)        기타         중앙철재   \n",
       "19597  202112   부산     강서구  S64801         단체  식품제조,가공업  부산광역시농업기술센터   \n",
       "19598  202112   부산     강서구  S64801  기업(개인사업자)  식품제조,가공업         코우테이   \n",
       "\n",
       "            기부금액  기부건수  기부자수  \n",
       "19594   600000.0     5     5  \n",
       "19595  1428330.0     2     1  \n",
       "19596   200000.0     1     1  \n",
       "19597   500000.0     3     1  \n",
       "19598   176000.0     1     1  "
      ]
     },
     "execution_count": 137,
     "metadata": {},
     "output_type": "execute_result"
    }
   ],
   "source": [
    "data2 = pd.read_csv('3.부산기부자정보조회(2016~2021년).csv', encoding='cp949')\n",
    "data2.tail()"
   ]
  },
  {
   "cell_type": "code",
   "execution_count": 138,
   "id": "20777065-41e5-4594-a350-302405216093",
   "metadata": {},
   "outputs": [],
   "source": [
    "data2['지원센터코드'] = data2['지원센터코드'].map(main_val)"
   ]
  },
  {
   "cell_type": "code",
   "execution_count": 146,
   "id": "89c69922-3e47-417b-8a1c-aa199ddc1a0f",
   "metadata": {},
   "outputs": [],
   "source": [
    "df = data2.groupby('지원센터코드', as_index=False)['기부금액', '기부자수'].sum()"
   ]
  },
  {
   "cell_type": "code",
   "execution_count": 147,
   "id": "d7fd0c17-6f68-4e56-9aa2-b3755bee045d",
   "metadata": {},
   "outputs": [
    {
     "data": {
      "text/html": [
       "<div>\n",
       "<style scoped>\n",
       "    .dataframe tbody tr th:only-of-type {\n",
       "        vertical-align: middle;\n",
       "    }\n",
       "\n",
       "    .dataframe tbody tr th {\n",
       "        vertical-align: top;\n",
       "    }\n",
       "\n",
       "    .dataframe thead th {\n",
       "        text-align: right;\n",
       "    }\n",
       "</style>\n",
       "<table border=\"1\" class=\"dataframe\">\n",
       "  <thead>\n",
       "    <tr style=\"text-align: right;\">\n",
       "      <th></th>\n",
       "      <th>지원센터코드</th>\n",
       "      <th>기부금액</th>\n",
       "      <th>기부자수</th>\n",
       "    </tr>\n",
       "  </thead>\n",
       "  <tbody>\n",
       "    <tr>\n",
       "      <th>28</th>\n",
       "      <td>영도구기초푸드뱅크</td>\n",
       "      <td>3.955806e+08</td>\n",
       "      <td>346</td>\n",
       "    </tr>\n",
       "    <tr>\n",
       "      <th>29</th>\n",
       "      <td>중구기초푸드마켓</td>\n",
       "      <td>1.721331e+09</td>\n",
       "      <td>235</td>\n",
       "    </tr>\n",
       "    <tr>\n",
       "      <th>30</th>\n",
       "      <td>중구기초푸드뱅크</td>\n",
       "      <td>2.295899e+08</td>\n",
       "      <td>169</td>\n",
       "    </tr>\n",
       "    <tr>\n",
       "      <th>31</th>\n",
       "      <td>해운대기초푸드마켓</td>\n",
       "      <td>2.009907e+09</td>\n",
       "      <td>1015</td>\n",
       "    </tr>\n",
       "    <tr>\n",
       "      <th>32</th>\n",
       "      <td>해운대기초푸드뱅크</td>\n",
       "      <td>2.343112e+09</td>\n",
       "      <td>1353</td>\n",
       "    </tr>\n",
       "  </tbody>\n",
       "</table>\n",
       "</div>"
      ],
      "text/plain": [
       "       지원센터코드          기부금액  기부자수\n",
       "28  영도구기초푸드뱅크  3.955806e+08   346\n",
       "29   중구기초푸드마켓  1.721331e+09   235\n",
       "30   중구기초푸드뱅크  2.295899e+08   169\n",
       "31  해운대기초푸드마켓  2.009907e+09  1015\n",
       "32  해운대기초푸드뱅크  2.343112e+09  1353"
      ]
     },
     "execution_count": 147,
     "metadata": {},
     "output_type": "execute_result"
    }
   ],
   "source": [
    "df.tail()"
   ]
  },
  {
   "cell_type": "code",
   "execution_count": 140,
   "id": "1c7e0f3d-e0dc-47fb-be33-1934313f789a",
   "metadata": {},
   "outputs": [
    {
     "data": {
      "text/html": [
       "<div>\n",
       "<style scoped>\n",
       "    .dataframe tbody tr th:only-of-type {\n",
       "        vertical-align: middle;\n",
       "    }\n",
       "\n",
       "    .dataframe tbody tr th {\n",
       "        vertical-align: top;\n",
       "    }\n",
       "\n",
       "    .dataframe thead th {\n",
       "        text-align: right;\n",
       "    }\n",
       "</style>\n",
       "<table border=\"1\" class=\"dataframe\">\n",
       "  <thead>\n",
       "    <tr style=\"text-align: right;\">\n",
       "      <th></th>\n",
       "      <th>기준년월</th>\n",
       "      <th>기부금액</th>\n",
       "      <th>기부건수</th>\n",
       "      <th>기부자수</th>\n",
       "    </tr>\n",
       "  </thead>\n",
       "  <tbody>\n",
       "    <tr>\n",
       "      <th>기준년월</th>\n",
       "      <td>1.000000</td>\n",
       "      <td>0.016959</td>\n",
       "      <td>-0.013438</td>\n",
       "      <td>0.000209</td>\n",
       "    </tr>\n",
       "    <tr>\n",
       "      <th>기부금액</th>\n",
       "      <td>0.016959</td>\n",
       "      <td>1.000000</td>\n",
       "      <td>0.050731</td>\n",
       "      <td>0.003141</td>\n",
       "    </tr>\n",
       "    <tr>\n",
       "      <th>기부건수</th>\n",
       "      <td>-0.013438</td>\n",
       "      <td>0.050731</td>\n",
       "      <td>1.000000</td>\n",
       "      <td>0.021082</td>\n",
       "    </tr>\n",
       "    <tr>\n",
       "      <th>기부자수</th>\n",
       "      <td>0.000209</td>\n",
       "      <td>0.003141</td>\n",
       "      <td>0.021082</td>\n",
       "      <td>1.000000</td>\n",
       "    </tr>\n",
       "  </tbody>\n",
       "</table>\n",
       "</div>"
      ],
      "text/plain": [
       "          기준년월      기부금액      기부건수      기부자수\n",
       "기준년월  1.000000  0.016959 -0.013438  0.000209\n",
       "기부금액  0.016959  1.000000  0.050731  0.003141\n",
       "기부건수 -0.013438  0.050731  1.000000  0.021082\n",
       "기부자수  0.000209  0.003141  0.021082  1.000000"
      ]
     },
     "execution_count": 140,
     "metadata": {},
     "output_type": "execute_result"
    }
   ],
   "source": [
    "data2.corr()"
   ]
  },
  {
   "cell_type": "code",
   "execution_count": null,
   "id": "18c2f483-664b-47fd-a087-e1771021a75f",
   "metadata": {},
   "outputs": [],
   "source": [
    "data2.info()"
   ]
  },
  {
   "cell_type": "code",
   "execution_count": null,
   "id": "888e9132-6acb-4e36-94fc-d8a8f7c6f618",
   "metadata": {},
   "outputs": [],
   "source": [
    "union_gugun = {\n",
    "3000001:'중구',\n",
    "3000002:'서구',\n",
    "3000003:'동구',\n",
    "3000004:'영도구',\n",
    "3000005:'부산진구',\n",
    "3000006:'동래구',\n",
    "3000007:'남구',\n",
    "3000008:'북구',\n",
    "3000009:'해운대구',\n",
    "3000010:'사하구',\n",
    "3000011:'금정구',\n",
    "3000012:'강서구',\n",
    "3000013:'연제구',\n",
    "3000014:'수영구',\n",
    "3000015:'사상구',\n",
    "3000100:'기장군' \n",
    "}"
   ]
  },
  {
   "cell_type": "code",
   "execution_count": null,
   "id": "1a2821f8-f932-42eb-8f32-0db67b438f78",
   "metadata": {},
   "outputs": [],
   "source": [
    "data2.isna().sum()"
   ]
  },
  {
   "cell_type": "markdown",
   "id": "af1c3c4c-c27a-4c80-965e-a2a70d7ffb1e",
   "metadata": {},
   "source": [
    "## 3. 분석데이터(기부금액을 추가 했을 때 상관관계 확인)"
   ]
  },
  {
   "cell_type": "code",
   "execution_count": 136,
   "id": "b53210d8-fcb5-45ee-9053-d9e29d2704c3",
   "metadata": {},
   "outputs": [
    {
     "data": {
      "text/html": [
       "<div>\n",
       "<style scoped>\n",
       "    .dataframe tbody tr th:only-of-type {\n",
       "        vertical-align: middle;\n",
       "    }\n",
       "\n",
       "    .dataframe tbody tr th {\n",
       "        vertical-align: top;\n",
       "    }\n",
       "\n",
       "    .dataframe thead th {\n",
       "        text-align: right;\n",
       "    }\n",
       "</style>\n",
       "<table border=\"1\" class=\"dataframe\">\n",
       "  <thead>\n",
       "    <tr style=\"text-align: right;\">\n",
       "      <th></th>\n",
       "      <th>지원센터코드</th>\n",
       "      <th>지원센터주소</th>\n",
       "      <th>년</th>\n",
       "      <th>접수금액</th>\n",
       "      <th>제공금액</th>\n",
       "      <th>인수금액</th>\n",
       "      <th>이관금액</th>\n",
       "      <th>이용자수</th>\n",
       "      <th>장부금액</th>\n",
       "      <th>장부수량</th>\n",
       "      <th>기부자수</th>\n",
       "      <th>기부건수</th>\n",
       "      <th>제공건수</th>\n",
       "      <th>사업장유형</th>\n",
       "    </tr>\n",
       "  </thead>\n",
       "  <tbody>\n",
       "    <tr>\n",
       "      <th>120</th>\n",
       "      <td>해운대기초푸드마켓</td>\n",
       "      <td>부산광역시 해운대구 재반로 79(재송동)</td>\n",
       "      <td>2021</td>\n",
       "      <td>423550224.0</td>\n",
       "      <td>413706176.5</td>\n",
       "      <td>86349843</td>\n",
       "      <td>49375954</td>\n",
       "      <td>7875</td>\n",
       "      <td>423550224.0</td>\n",
       "      <td>105002</td>\n",
       "      <td>217</td>\n",
       "      <td>803</td>\n",
       "      <td>30636</td>\n",
       "      <td>1</td>\n",
       "    </tr>\n",
       "    <tr>\n",
       "      <th>121</th>\n",
       "      <td>해운대기초푸드뱅크</td>\n",
       "      <td>부산 해운대구 재송1동</td>\n",
       "      <td>2017</td>\n",
       "      <td>251652753.0</td>\n",
       "      <td>299552303.0</td>\n",
       "      <td>47899536</td>\n",
       "      <td>0</td>\n",
       "      <td>985</td>\n",
       "      <td>251652753.0</td>\n",
       "      <td>137557</td>\n",
       "      <td>162</td>\n",
       "      <td>3197</td>\n",
       "      <td>10156</td>\n",
       "      <td>1</td>\n",
       "    </tr>\n",
       "    <tr>\n",
       "      <th>122</th>\n",
       "      <td>해운대기초푸드뱅크</td>\n",
       "      <td>부산 해운대구 재송1동</td>\n",
       "      <td>2019</td>\n",
       "      <td>369710065.0</td>\n",
       "      <td>407069506.7</td>\n",
       "      <td>46655561</td>\n",
       "      <td>9296136</td>\n",
       "      <td>1184</td>\n",
       "      <td>369710065.0</td>\n",
       "      <td>174470</td>\n",
       "      <td>224</td>\n",
       "      <td>4793</td>\n",
       "      <td>16249</td>\n",
       "      <td>1</td>\n",
       "    </tr>\n",
       "    <tr>\n",
       "      <th>123</th>\n",
       "      <td>해운대기초푸드뱅크</td>\n",
       "      <td>부산 해운대구 재송1동</td>\n",
       "      <td>2020</td>\n",
       "      <td>542049942.0</td>\n",
       "      <td>667062331.4</td>\n",
       "      <td>139893506</td>\n",
       "      <td>10900000</td>\n",
       "      <td>327</td>\n",
       "      <td>542049942.0</td>\n",
       "      <td>175586</td>\n",
       "      <td>278</td>\n",
       "      <td>4876</td>\n",
       "      <td>5969</td>\n",
       "      <td>1</td>\n",
       "    </tr>\n",
       "    <tr>\n",
       "      <th>124</th>\n",
       "      <td>해운대기초푸드뱅크</td>\n",
       "      <td>부산 해운대구 재송1동</td>\n",
       "      <td>2021</td>\n",
       "      <td>639708386.0</td>\n",
       "      <td>784450164.0</td>\n",
       "      <td>146049627</td>\n",
       "      <td>3280111</td>\n",
       "      <td>434</td>\n",
       "      <td>639708386.0</td>\n",
       "      <td>273401</td>\n",
       "      <td>359</td>\n",
       "      <td>6049</td>\n",
       "      <td>7414</td>\n",
       "      <td>1</td>\n",
       "    </tr>\n",
       "  </tbody>\n",
       "</table>\n",
       "</div>"
      ],
      "text/plain": [
       "        지원센터코드                  지원센터주소     년         접수금액         제공금액  \\\n",
       "120  해운대기초푸드마켓  부산광역시 해운대구 재반로 79(재송동)  2021  423550224.0  413706176.5   \n",
       "121  해운대기초푸드뱅크            부산 해운대구 재송1동  2017  251652753.0  299552303.0   \n",
       "122  해운대기초푸드뱅크            부산 해운대구 재송1동  2019  369710065.0  407069506.7   \n",
       "123  해운대기초푸드뱅크            부산 해운대구 재송1동  2020  542049942.0  667062331.4   \n",
       "124  해운대기초푸드뱅크            부산 해운대구 재송1동  2021  639708386.0  784450164.0   \n",
       "\n",
       "          인수금액      이관금액  이용자수         장부금액    장부수량  기부자수  기부건수   제공건수  사업장유형  \n",
       "120   86349843  49375954  7875  423550224.0  105002   217   803  30636      1  \n",
       "121   47899536         0   985  251652753.0  137557   162  3197  10156      1  \n",
       "122   46655561   9296136  1184  369710065.0  174470   224  4793  16249      1  \n",
       "123  139893506  10900000   327  542049942.0  175586   278  4876   5969      1  \n",
       "124  146049627   3280111   434  639708386.0  273401   359  6049   7414      1  "
      ]
     },
     "execution_count": 136,
     "metadata": {},
     "output_type": "execute_result"
    }
   ],
   "source": [
    "data3 = pd.read_csv('분석전체데이터.csv', encoding='cp949')\n",
    "data3.tail()"
   ]
  },
  {
   "cell_type": "code",
   "execution_count": null,
   "id": "2ffed717-c6a0-42a8-b45f-90bde3967d29",
   "metadata": {},
   "outputs": [],
   "source": [
    "df1 = data3[data3['년'] == 2021]"
   ]
  },
  {
   "cell_type": "code",
   "execution_count": null,
   "id": "d3643e66-9327-4f7b-822b-a854f009d7e5",
   "metadata": {},
   "outputs": [],
   "source": [
    "merge_df = pd.merge(df1, df, how='inner', on = '지원센터코드')"
   ]
  },
  {
   "cell_type": "code",
   "execution_count": null,
   "id": "ebd30417-a611-4105-9d82-c9aed150cdfd",
   "metadata": {},
   "outputs": [],
   "source": [
    "merge_df.drop('년', axis=1, inplace=True)"
   ]
  },
  {
   "cell_type": "code",
   "execution_count": null,
   "id": "2e5c2c24-c4fa-47ea-9682-e9184b29c8b5",
   "metadata": {},
   "outputs": [],
   "source": [
    "merge_df.corr()"
   ]
  },
  {
   "cell_type": "code",
   "execution_count": 135,
   "id": "4cdc79a5-1fb0-4116-8be1-f90c5e70e74d",
   "metadata": {},
   "outputs": [
    {
     "data": {
      "image/png": "[encoded data removed]",
      "text/plain": [
       "<Figure size 700x700 with 1 Axes>"
      ]
     },
     "metadata": {},
     "output_type": "display_data"
    }
   ],
   "source": [
    "plt.figure(figsize=(7,7))\n",
    "sns.heatmap(merge_df.corr(), annot=True, cmap='Greens', linewidths=.5, cbar=False, fmt=\".2f\")\n",
    "plt.show()"
   ]
  },
  {
   "cell_type": "markdown",
   "id": "f8b395e2-a585-42d7-8804-381019a3f03e",
   "metadata": {
    "tags": []
   },
   "source": [
    "## 분석 결과 1\n",
    "- 기부금액과 접수금액(장부금액), 제공금액, 기부자(건)수, 사업장 유형은 상관 관계가 있음\n",
    "- 사업장 유형과 접수, 제공금액 기부자수, 기부금액이 상관 관계가 있음\n",
    "- 어쨌든간, 돈이 많이 들어오면(기부자수, 건수, 금액 등..) 당연하게 접수금액과 제공금액이 올라가 기부를 받는 사람이 많아진다.\n",
    "- 또한, 돈이 많이 흘러 들어옴으로써 사업장에 많은 기부가 들어오게 되면(3억 이상)\n",
    "- 사업장 유형이 임의에서 당연으로 전환이 되어야 한다. ---> 기부총량확대가 된다면 임의사업장도 당연사업장이 되는 것이 가속화 될 수 있다."
   ]
  },
  {
   "cell_type": "markdown",
   "id": "2216cf71-d62c-46c4-90d4-0e11ca8a1d77",
   "metadata": {},
   "source": [
    "## 4. 지원금과 기부금액 간의 상관 관계를 확인해보자"
   ]
  },
  {
   "cell_type": "code",
   "execution_count": null,
   "id": "1f57872c-d038-4478-8b20-ed7a9e724de3",
   "metadata": {},
   "outputs": [],
   "source": [
    "pd.set_option('display.max_columns', None)\n",
    "data4 = pd.read_csv('NEW 제공사업장 실태조사서.csv', encoding='cp949')\n",
    "data4.head(2)"
   ]
  },
  {
   "cell_type": "code",
   "execution_count": 145,
   "id": "e84be8a9-213a-4e6d-8fad-5f749017d02b",
   "metadata": {},
   "outputs": [
    {
     "data": {
      "text/html": [
       "<div>\n",
       "<style scoped>\n",
       "    .dataframe tbody tr th:only-of-type {\n",
       "        vertical-align: middle;\n",
       "    }\n",
       "\n",
       "    .dataframe tbody tr th {\n",
       "        vertical-align: top;\n",
       "    }\n",
       "\n",
       "    .dataframe thead th {\n",
       "        text-align: right;\n",
       "    }\n",
       "</style>\n",
       "<table border=\"1\" class=\"dataframe\">\n",
       "  <thead>\n",
       "    <tr style=\"text-align: right;\">\n",
       "      <th></th>\n",
       "      <th>사업장명</th>\n",
       "      <th>신고기준</th>\n",
       "      <th>보관창고면적(m^2)</th>\n",
       "      <th>인력소계</th>\n",
       "      <th>2021지원금</th>\n",
       "      <th>2022지원금</th>\n",
       "    </tr>\n",
       "  </thead>\n",
       "  <tbody>\n",
       "    <tr>\n",
       "      <th>31</th>\n",
       "      <td>해운대기초푸드뱅크</td>\n",
       "      <td>당연</td>\n",
       "      <td>16.82</td>\n",
       "      <td>3</td>\n",
       "      <td>39000</td>\n",
       "      <td>40000</td>\n",
       "    </tr>\n",
       "    <tr>\n",
       "      <th>32</th>\n",
       "      <td>해운대기초푸드마켓</td>\n",
       "      <td>당연</td>\n",
       "      <td>36.36</td>\n",
       "      <td>5</td>\n",
       "      <td>57200</td>\n",
       "      <td>60000</td>\n",
       "    </tr>\n",
       "  </tbody>\n",
       "</table>\n",
       "</div>"
      ],
      "text/plain": [
       "         사업장명 신고기준 보관창고면적(m^2)  인력소계  2021지원금  2022지원금\n",
       "31  해운대기초푸드뱅크   당연       16.82     3    39000    40000\n",
       "32  해운대기초푸드마켓   당연       36.36     5    57200    60000"
      ]
     },
     "execution_count": 145,
     "metadata": {},
     "output_type": "execute_result"
    }
   ],
   "source": [
    "data4 = data4[['사업장명', '신고기준', '보관창고면적(m^2)', '인력소계', '2021지원금', '2022지원금']]\n",
    "data4.tail(2)"
   ]
  },
  {
   "cell_type": "code",
   "execution_count": 149,
   "id": "04bf496e-8189-4339-ac5e-48c246597adc",
   "metadata": {},
   "outputs": [],
   "source": [
    "data4.rename(columns={'사업장명':'지원센터코드'}, inplace=True)"
   ]
  },
  {
   "cell_type": "code",
   "execution_count": 150,
   "id": "e990c9e9-4068-4c2e-bbd4-156efda757c8",
   "metadata": {},
   "outputs": [
    {
     "data": {
      "text/html": [
       "<div>\n",
       "<style scoped>\n",
       "    .dataframe tbody tr th:only-of-type {\n",
       "        vertical-align: middle;\n",
       "    }\n",
       "\n",
       "    .dataframe tbody tr th {\n",
       "        vertical-align: top;\n",
       "    }\n",
       "\n",
       "    .dataframe thead th {\n",
       "        text-align: right;\n",
       "    }\n",
       "</style>\n",
       "<table border=\"1\" class=\"dataframe\">\n",
       "  <thead>\n",
       "    <tr style=\"text-align: right;\">\n",
       "      <th></th>\n",
       "      <th>지원센터코드</th>\n",
       "      <th>신고기준</th>\n",
       "      <th>보관창고면적(m^2)</th>\n",
       "      <th>인력소계</th>\n",
       "      <th>2021지원금</th>\n",
       "      <th>2022지원금</th>\n",
       "    </tr>\n",
       "  </thead>\n",
       "  <tbody>\n",
       "    <tr>\n",
       "      <th>32</th>\n",
       "      <td>해운대기초푸드마켓</td>\n",
       "      <td>당연</td>\n",
       "      <td>36.36</td>\n",
       "      <td>5</td>\n",
       "      <td>57200</td>\n",
       "      <td>60000</td>\n",
       "    </tr>\n",
       "  </tbody>\n",
       "</table>\n",
       "</div>"
      ],
      "text/plain": [
       "       지원센터코드 신고기준 보관창고면적(m^2)  인력소계  2021지원금  2022지원금\n",
       "32  해운대기초푸드마켓   당연       36.36     5    57200    60000"
      ]
     },
     "execution_count": 150,
     "metadata": {},
     "output_type": "execute_result"
    }
   ],
   "source": [
    "data4.tail(1)"
   ]
  },
  {
   "cell_type": "code",
   "execution_count": 151,
   "id": "4f72e187-7677-4b65-ab67-5f8289fc8db3",
   "metadata": {},
   "outputs": [],
   "source": [
    "merge_df2 = pd.merge(df, data4, on='지원센터코드', how='inner')"
   ]
  },
  {
   "cell_type": "code",
   "execution_count": 155,
   "id": "103fb87a-05fe-40f3-ac6d-6a799a66865f",
   "metadata": {},
   "outputs": [
    {
     "data": {
      "image/png": "[encoded data removed]",
      "text/plain": [
       "<Figure size 500x500 with 1 Axes>"
      ]
     },
     "metadata": {},
     "output_type": "display_data"
    }
   ],
   "source": [
    "plt.figure(figsize=(5,5))\n",
    "sns.heatmap(merge_df2.corr(), annot=True, cmap='Greens', linewidths=.5, cbar=False, fmt=\".2f\")\n",
    "plt.show()"
   ]
  },
  {
   "cell_type": "markdown",
   "id": "55a374a4-17ea-4810-af0f-80beb98b45be",
   "metadata": {
    "tags": []
   },
   "source": [
    "### 분석 결과 2\n",
    "- 2개년도 기준 지원금을 보고 따졌을 때,\n",
    "- 지원금과의 상관 관계를 보이는 컬럼 : 기부금액과 인력, 전년도 지원금\n",
    "- 인력이 많으면 인건비가 나가기 때문에 그 만큼의 지원금이 들어오는 것으로 예상\n",
    "- 기부금액이 많을수록 인력도 많이 필요하고 제공도 많이 하기에 지원금도 같이 많아짐으로 예상"
   ]
  },
  {
   "cell_type": "code",
   "execution_count": null,
   "id": "1e880c88-21ea-468e-b911-79c7339912fb",
   "metadata": {},
   "outputs": [],
   "source": []
  },
  {
   "cell_type": "code",
   "execution_count": null,
   "id": "734f4057-c6cd-43b3-bdab-90e9d7005bf1",
   "metadata": {},
   "outputs": [],
   "source": []
  },
  {
   "cell_type": "markdown",
   "id": "ac946fd4-78de-4e17-8e43-b0c05f7ebb5f",
   "metadata": {
    "tags": []
   },
   "source": [
    "## 5. 구별로 매핑해서 그래프 그려보기"
   ]
  },
  {
   "cell_type": "code",
   "execution_count": null,
   "id": "fcc43769-4f08-4e99-ac7f-c600ace6dbf7",
   "metadata": {},
   "outputs": [],
   "source": [
    "data2['통합시군구코드'] = data2['통합시군구코드'].map(union_gugun)"
   ]
  },
  {
   "cell_type": "code",
   "execution_count": null,
   "id": "552cdb28-6a42-46e3-9e69-9c9a7c5869ec",
   "metadata": {},
   "outputs": [],
   "source": [
    "# data2.to_csv('3.부산기부자정보조회(2016~2021년).csv', index=False, encoding='cp949')"
   ]
  },
  {
   "cell_type": "code",
   "execution_count": null,
   "id": "48e5546f-b6bb-408c-80ab-86fb9dce5758",
   "metadata": {},
   "outputs": [],
   "source": [
    "data2.head()"
   ]
  },
  {
   "cell_type": "code",
   "execution_count": null,
   "id": "49d2e34c-538b-469c-993f-62c62e8c921e",
   "metadata": {},
   "outputs": [],
   "source": [
    "grouping_gugun_money = data2.groupby(['통합시군구코드', '기부자명'], as_index=False)['기부금액'].sum()"
   ]
  },
  {
   "cell_type": "code",
   "execution_count": null,
   "id": "dac04e95-16f8-44e4-935a-f51ab431b1ec",
   "metadata": {},
   "outputs": [],
   "source": [
    "grouping_gugun_money"
   ]
  },
  {
   "cell_type": "code",
   "execution_count": null,
   "id": "25f66a35-cbe4-4280-96a8-09a03e4490a3",
   "metadata": {},
   "outputs": [],
   "source": [
    "grouping_gugun_money['기부금액'] = grouping_gugun_money['기부금액'].astype(int)"
   ]
  },
  {
   "cell_type": "code",
   "execution_count": null,
   "id": "efcf006a-105a-42ae-977e-6442f03b3f04",
   "metadata": {},
   "outputs": [],
   "source": [
    "grouping_gugun_money.to_csv('부산구별기부처(금액).csv', index=False, encoding='cp949')"
   ]
  },
  {
   "cell_type": "code",
   "execution_count": null,
   "id": "dc666aff-d722-4b2e-92f1-fbb9b7dfe598",
   "metadata": {},
   "outputs": [],
   "source": [
    "def grouping_gugun_money_graph20(gu):\n",
    "        \n",
    "    top20 = group_gugun_data[group_gugun_data['통합시군구코드'] == gu].sort_values('기부금액', ascending=False).head(20)\n",
    "    fig = plt.figure()\n",
    "    fig.set_dpi(300) # DPI 값을 조정하여 레티나 품질로 설정\n",
    "    sns.barplot(data=top20, x='기부금액', y='기부자명')\n",
    "    plt.show()\n",
    "\n",
    "    return st.pyplot(fig)"
   ]
  },
  {
   "cell_type": "code",
   "execution_count": null,
   "id": "c29691a7-b386-4f63-badc-633c43e69e6c",
   "metadata": {},
   "outputs": [],
   "source": [
    "grouping_gugun = data2.groupby(['통합시군구코드', '기부자명'], as_index=False)['기부건수'].sum()"
   ]
  },
  {
   "cell_type": "code",
   "execution_count": null,
   "id": "1a1394df-a4ee-4d25-85e7-e6ca04d1d8ec",
   "metadata": {},
   "outputs": [],
   "source": [
    "grouping_gugun "
   ]
  },
  {
   "cell_type": "code",
   "execution_count": null,
   "id": "633f82e6-6073-4137-bb4a-cdf3fd77e3b7",
   "metadata": {},
   "outputs": [],
   "source": [
    "grouping_gugun.to_csv('부산구별기부처.csv', index=False, encoding='cp949')"
   ]
  },
  {
   "cell_type": "code",
   "execution_count": null,
   "id": "17cfa845-7507-4181-a1af-bb427284aa5d",
   "metadata": {},
   "outputs": [],
   "source": [
    "def grouping_gugun_graph(gu):\n",
    "    \n",
    "    group_gugun_data = pd.read_csv('부산구별기부처.csv', encoding='cp949')\n",
    "    top20 = group_gugun_data[group_gugun_data['통합시군구코드'] == gu].sort_values('기부건수', ascending=False).head(20)\n",
    "    fig = plt.figure()\n",
    "    sns.barplot(data=top20, x='기부건수', y='기부자명')\n",
    "    plt.show()\n",
    "    \n",
    "    return st.pyplot(fig)"
   ]
  },
  {
   "cell_type": "code",
   "execution_count": null,
   "id": "dd69a54a-681f-476b-ae5d-7e1f56ddc719",
   "metadata": {},
   "outputs": [],
   "source": [
    "grouping_gugun[grouping_gugun['통합시군구코드'] == '해운대구'].sort_values('기부건수', ascending=False).head(20)"
   ]
  },
  {
   "cell_type": "code",
   "execution_count": null,
   "id": "6d070c17-3357-4c39-9bab-515b68159610",
   "metadata": {},
   "outputs": [],
   "source": [
    "grouping_data = data2.groupby('기부자명', as_index=False)['기부건수'].sum()"
   ]
  },
  {
   "cell_type": "code",
   "execution_count": null,
   "id": "8ee9b487-eec2-4955-8fca-fb0ec211ac50",
   "metadata": {},
   "outputs": [],
   "source": [
    "sort_data = grouping_data.sort_values(by='기부건수',ascending=False)\n",
    "sort_data"
   ]
  },
  {
   "cell_type": "code",
   "execution_count": null,
   "id": "f63f7d83-e82b-4999-aa23-a8c98f3440bf",
   "metadata": {},
   "outputs": [],
   "source": [
    "top21 = sort_data.head(21)"
   ]
  },
  {
   "cell_type": "code",
   "execution_count": null,
   "id": "236c0279-a2f3-499f-87d4-a40cc778ba82",
   "metadata": {},
   "outputs": [],
   "source": [
    "top21.to_csv('기부건수 top21.csv', encoding='cp949')"
   ]
  },
  {
   "cell_type": "code",
   "execution_count": null,
   "id": "b99443be-edfe-442d-9dc3-743391fd078d",
   "metadata": {},
   "outputs": [],
   "source": [
    "top5 = sort_data.head()"
   ]
  },
  {
   "cell_type": "code",
   "execution_count": null,
   "id": "246f4a1b-8e28-4494-9733-e28b5ba3180d",
   "metadata": {},
   "outputs": [],
   "source": [
    "top10 = sort_data.head(10)"
   ]
  },
  {
   "cell_type": "code",
   "execution_count": null,
   "id": "b1882d67-6ba1-4695-ae62-9f10847d135e",
   "metadata": {},
   "outputs": [],
   "source": [
    "top20 = top21.iloc[1:]"
   ]
  },
  {
   "cell_type": "code",
   "execution_count": null,
   "id": "fc111d7b-fbbe-40e8-ad9d-6cf426c96b8e",
   "metadata": {},
   "outputs": [],
   "source": [
    "def top_donate_grahp():\n",
    "    top21 = pd.read_csv('기부건수 top21.csv', encoding='cp949')\n",
    "    top5 = top21.head()\n",
    "    top20 = top21.iloc[1:]\n",
    "    "
   ]
  },
  {
   "cell_type": "code",
   "execution_count": null,
   "id": "249db3a2-ca4b-4e25-9f87-7b81f92dc22d",
   "metadata": {
    "tags": []
   },
   "outputs": [],
   "source": [
    "import seaborn as sns\n",
    "import matplotlib.pyplot as plt\n",
    "\n",
    "# 시각화 한글폰트 설정\n",
    "plt.rc('font', family='Malgun Gothic')\n",
    "sns.set(font=\"Malgun Gothic\",#\"NanumGothicCoding\", \n",
    "rc={\"axes.unicode_minus\":False}, # 마이너스 부호 깨짐 현상 해결\n",
    "style='darkgrid')\n",
    "\n",
    "sns.barplot(y = top20['기부자명'], x = top20['기부건수'])\n",
    "plt.show()"
   ]
  },
  {
   "cell_type": "code",
   "execution_count": null,
   "id": "24c7ecae-582f-4e7b-9f5f-4a49fbbdfa27",
   "metadata": {},
   "outputs": [],
   "source": [
    "sns.barplot(y = top5['기부자명'], x = top5['기부건수'])\n",
    "plt.show()"
   ]
  },
  {
   "cell_type": "code",
   "execution_count": null,
   "id": "5ef36103-01f8-4749-864f-c50895745246",
   "metadata": {},
   "outputs": [],
   "source": [
    "data2['기부자명'].nunique()"
   ]
  },
  {
   "cell_type": "code",
   "execution_count": null,
   "id": "12479678-67af-42ca-8111-2b789348fa55",
   "metadata": {},
   "outputs": [],
   "source": [
    "unique_donors = data2.drop_duplicates(subset='기부자명')\n",
    "unique_donors.reset_index(drop=True, inplace=True)"
   ]
  },
  {
   "cell_type": "code",
   "execution_count": null,
   "id": "1d54f190-46cd-461c-ae5d-7fe2c440b6a8",
   "metadata": {},
   "outputs": [],
   "source": [
    "unique_donors = unique_donors[['기부자구분코드', '기부사업장종류코드', '기부자명', '기부금액']]\n",
    "unique_donors"
   ]
  },
  {
   "cell_type": "code",
   "execution_count": null,
   "id": "9153b7aa-770b-4d90-97cb-0757755bf0dc",
   "metadata": {},
   "outputs": [],
   "source": [
    "busan_donors = unique_donors.copy()"
   ]
  },
  {
   "cell_type": "code",
   "execution_count": null,
   "id": "39ed1596-794e-4876-88f8-d23050ef2d4f",
   "metadata": {},
   "outputs": [],
   "source": [
    "busan_donors"
   ]
  },
  {
   "cell_type": "code",
   "execution_count": null,
   "id": "5e3c5bc0-692f-4c36-9307-51506b8078d2",
   "metadata": {},
   "outputs": [],
   "source": [
    "def find_busan_donors(search):\n",
    "    busan_donors = pd.read_csv('부산기부처목록.csv', encoding='cp949')\n",
    "    return busan_donors[busan_donors['기부자명'].str.contains(search)]"
   ]
  },
  {
   "cell_type": "code",
   "execution_count": null,
   "id": "9917731b-79db-4275-8949-356e7a0485d8",
   "metadata": {},
   "outputs": [],
   "source": [
    "find_busan_donors('어묵')"
   ]
  },
  {
   "cell_type": "code",
   "execution_count": null,
   "id": "b3b1f872-5a10-4f98-b4eb-e427329c704a",
   "metadata": {},
   "outputs": [],
   "source": [
    "unique_donors['기부금액'] = unique_donors['기부금액'].astype(int)"
   ]
  },
  {
   "cell_type": "code",
   "execution_count": null,
   "id": "18fcd83d-66ae-465a-a4d5-36e7c361f366",
   "metadata": {},
   "outputs": [],
   "source": [
    "unique_donors"
   ]
  },
  {
   "cell_type": "markdown",
   "id": "ede47f7b-22ca-4935-8c9b-e93d32397041",
   "metadata": {},
   "source": [
    "### 부산 기부처 중복 제거 후 저장"
   ]
  },
  {
   "cell_type": "code",
   "execution_count": null,
   "id": "f6168677-4cee-4519-8601-d97f2a153dad",
   "metadata": {},
   "outputs": [],
   "source": [
    "unique_donors.to_csv('부산기부처목록.csv', encoding='cp949', index=False)"
   ]
  },
  {
   "cell_type": "code",
   "execution_count": null,
   "id": "9af023cc-30b0-4f8a-ae22-6e7f9e658b73",
   "metadata": {},
   "outputs": [],
   "source": [
    "data2['기부사업장종류코드'].unique()"
   ]
  },
  {
   "cell_type": "code",
   "execution_count": null,
   "id": "067ad407-2cd1-4ec9-a949-2ff71e5762da",
   "metadata": {},
   "outputs": [],
   "source": [
    "def donate(needs):\n",
    "    donate_info = pd.read_csv('3.부산기부자정보조회(2016~2021년).csv', encoding='cp949')\n",
    "    if needs == '신선식품':\n",
    "        matching = '식품 도,소매업'\n",
    "    elif needs == '일상용품' or needs == '의류/패션잡화':\n",
    "        matching = '즉선판매,제조가공업'\n",
    "    else:\n",
    "        matching = '기타'\n",
    "    donater = donate_info[donate_info['기부사업장종류코드'] == matching]\n",
    "    donater_list = list(donater['기부자명'].unique())\n",
    "    return donater_list"
   ]
  },
  {
   "cell_type": "code",
   "execution_count": null,
   "id": "aef1ce36-53a4-46d4-9bd8-ee24e9032b6b",
   "metadata": {},
   "outputs": [],
   "source": [
    "donate('스포츠')"
   ]
  },
  {
   "cell_type": "code",
   "execution_count": null,
   "id": "ce3171e0-45a7-42e4-8ebe-56301d9a1f49",
   "metadata": {},
   "outputs": [],
   "source": [
    "doso = data2[data2['기부사업장종류코드'] =='식품 도,소매업']\n",
    "doso['기부자명'].unique()"
   ]
  },
  {
   "cell_type": "code",
   "execution_count": null,
   "id": "856a1cbb-048b-4ea8-9c4d-d16e8803b466",
   "metadata": {},
   "outputs": [],
   "source": [
    "doso = data2[(data2['기부사업장종류코드'] =='식품제조,가공업') | (data2['기부사업장종류코드'] =='식품 도,소매업')]\n",
    "len(doso['기부자명'].unique())"
   ]
  },
  {
   "cell_type": "code",
   "execution_count": null,
   "id": "cbe5fb59-0e7d-4911-82a7-af799fef4435",
   "metadata": {},
   "outputs": [],
   "source": [
    "group_store = data2[data2['기부사업장종류코드'] == '집단 급식소']"
   ]
  },
  {
   "cell_type": "code",
   "execution_count": null,
   "id": "f5446117-8d6c-47bf-89b5-79d19e0ede6d",
   "metadata": {},
   "outputs": [],
   "source": [
    "group_store['기부자명'].unique()"
   ]
  },
  {
   "cell_type": "code",
   "execution_count": null,
   "id": "f453a12f-767e-4b6e-8713-fbe30252145e",
   "metadata": {},
   "outputs": [],
   "source": [
    "etc = data2[data2['기부사업장종류코드'] == '기타']\n",
    "etc['기부자명'].unique()\n",
    "# etc[etc['기부자명'].str.contains('쌀')]"
   ]
  },
  {
   "cell_type": "code",
   "execution_count": null,
   "id": "4ccabca8-66f6-4c4d-ae17-7269019a5238",
   "metadata": {},
   "outputs": [],
   "source": [
    "# 함수 생성\n",
    "def inventory(code_name):\n",
    "    test = pd.read_csv('기부물품대분류(가짜데이터).csv', encoding='cp949')\n",
    "    test.set_index(test.columns[0], inplace=True)\n",
    "    return test.loc[code_name, '재고수량']"
   ]
  },
  {
   "cell_type": "code",
   "execution_count": null,
   "id": "8f988596-7397-4769-9354-b20838c6ea56",
   "metadata": {},
   "outputs": [],
   "source": [
    "inventory('일상용품')"
   ]
  },
  {
   "cell_type": "code",
   "execution_count": null,
   "id": "107fe8e7-e822-4242-8523-564268164c2a",
   "metadata": {},
   "outputs": [],
   "source": [
    "test = pd.read_csv('기부물품대분류(가짜데이터).csv', encoding='cp949')\n",
    "test"
   ]
  },
  {
   "cell_type": "markdown",
   "id": "d32c1742-c2f2-4734-ba48-5eb6ea23ebf4",
   "metadata": {},
   "source": [
    "## 6. 새로운 기부처 발굴 데이터 생성"
   ]
  },
  {
   "cell_type": "code",
   "execution_count": 79,
   "id": "f864d723-acb1-4549-91bd-4310eb826186",
   "metadata": {},
   "outputs": [],
   "source": [
    "new = pd.read_csv('부산도소매업(전처리).csv', encoding='cp949')\n",
    "pd.set_option('display.max_columns', None)"
   ]
  },
  {
   "cell_type": "code",
   "execution_count": 80,
   "id": "ba540e2a-068a-4d09-84e8-be6e56ca8155",
   "metadata": {},
   "outputs": [
    {
     "data": {
      "text/html": [
       "<div>\n",
       "<style scoped>\n",
       "    .dataframe tbody tr th:only-of-type {\n",
       "        vertical-align: middle;\n",
       "    }\n",
       "\n",
       "    .dataframe tbody tr th {\n",
       "        vertical-align: top;\n",
       "    }\n",
       "\n",
       "    .dataframe thead th {\n",
       "        text-align: right;\n",
       "    }\n",
       "</style>\n",
       "<table border=\"1\" class=\"dataframe\">\n",
       "  <thead>\n",
       "    <tr style=\"text-align: right;\">\n",
       "      <th></th>\n",
       "      <th>Unnamed: 0</th>\n",
       "      <th>상호명</th>\n",
       "      <th>상권업종대분류명</th>\n",
       "      <th>표준산업분류명</th>\n",
       "      <th>시군구명</th>\n",
       "      <th>도로명주소</th>\n",
       "      <th>경도</th>\n",
       "      <th>위도</th>\n",
       "    </tr>\n",
       "  </thead>\n",
       "  <tbody>\n",
       "    <tr>\n",
       "      <th>8145</th>\n",
       "      <td>8145</td>\n",
       "      <td>기린아식품</td>\n",
       "      <td>소매</td>\n",
       "      <td>채소, 과실 및 뿌리작물 소매업</td>\n",
       "      <td>해운대구</td>\n",
       "      <td>부산광역시 해운대구 좌동로14번길 32</td>\n",
       "      <td>129.171069</td>\n",
       "      <td>35.167681</td>\n",
       "    </tr>\n",
       "    <tr>\n",
       "      <th>8146</th>\n",
       "      <td>8146</td>\n",
       "      <td>장가상회</td>\n",
       "      <td>소매</td>\n",
       "      <td>건어물 및 젓갈류 소매업</td>\n",
       "      <td>부산진구</td>\n",
       "      <td>부산광역시 부산진구 범일로142번길 39</td>\n",
       "      <td>129.061568</td>\n",
       "      <td>35.142820</td>\n",
       "    </tr>\n",
       "    <tr>\n",
       "      <th>8147</th>\n",
       "      <td>8147</td>\n",
       "      <td>떡봄시루</td>\n",
       "      <td>음식</td>\n",
       "      <td>떡류 제조업</td>\n",
       "      <td>연제구</td>\n",
       "      <td>부산광역시 연제구 과정로 207</td>\n",
       "      <td>129.104707</td>\n",
       "      <td>35.187531</td>\n",
       "    </tr>\n",
       "    <tr>\n",
       "      <th>8148</th>\n",
       "      <td>8148</td>\n",
       "      <td>호주면세점부산</td>\n",
       "      <td>소매</td>\n",
       "      <td>건강 보조식품 소매업</td>\n",
       "      <td>부산진구</td>\n",
       "      <td>부산광역시 부산진구 성지로 79</td>\n",
       "      <td>129.053699</td>\n",
       "      <td>35.177602</td>\n",
       "    </tr>\n",
       "    <tr>\n",
       "      <th>8149</th>\n",
       "      <td>8149</td>\n",
       "      <td>해피노이스토어</td>\n",
       "      <td>소매</td>\n",
       "      <td>기타 음ㆍ식료품 위주 종합 소매업</td>\n",
       "      <td>사상구</td>\n",
       "      <td>부산광역시 사상구 사상로 482</td>\n",
       "      <td>128.987760</td>\n",
       "      <td>35.187478</td>\n",
       "    </tr>\n",
       "  </tbody>\n",
       "</table>\n",
       "</div>"
      ],
      "text/plain": [
       "      Unnamed: 0      상호명 상권업종대분류명             표준산업분류명  시군구명  \\\n",
       "8145        8145    기린아식품       소매   채소, 과실 및 뿌리작물 소매업  해운대구   \n",
       "8146        8146     장가상회       소매       건어물 및 젓갈류 소매업  부산진구   \n",
       "8147        8147     떡봄시루       음식              떡류 제조업   연제구   \n",
       "8148        8148  호주면세점부산       소매         건강 보조식품 소매업  부산진구   \n",
       "8149        8149  해피노이스토어       소매  기타 음ㆍ식료품 위주 종합 소매업   사상구   \n",
       "\n",
       "                       도로명주소          경도         위도  \n",
       "8145   부산광역시 해운대구 좌동로14번길 32  129.171069  35.167681  \n",
       "8146  부산광역시 부산진구 범일로142번길 39  129.061568  35.142820  \n",
       "8147       부산광역시 연제구 과정로 207  129.104707  35.187531  \n",
       "8148       부산광역시 부산진구 성지로 79  129.053699  35.177602  \n",
       "8149       부산광역시 사상구 사상로 482  128.987760  35.187478  "
      ]
     },
     "execution_count": 80,
     "metadata": {},
     "output_type": "execute_result"
    }
   ],
   "source": [
    "new.tail()"
   ]
  },
  {
   "cell_type": "code",
   "execution_count": 81,
   "id": "aa8a7b92-6bdd-4a38-98a4-de10f0089117",
   "metadata": {},
   "outputs": [
    {
     "data": {
      "text/plain": [
       "array(['떡류 제조업', '기타 음ㆍ식료품 위주 종합 소매업', '육류 소매업', '신선, 냉동 및 기타 수산물 소매업',\n",
       "       '빵류, 과자류 및 당류 소매업', '건강 보조식품 소매업', '채소, 과실 및 뿌리작물 소매업', '슈퍼마켓',\n",
       "       '기타 식료품 소매업', '조리 반찬류 소매업', '음료 소매업', '건어물 및 젓갈류 소매업', '곡물 제분업',\n",
       "       '기타 식사용 가공처리 조리식품 제조업', '기타 곡물 가공품 제조업', '비알코올 음료 도매업', '도시락류 제조업',\n",
       "       '기타 과실ㆍ채소 가공 및 저장 처리업', '인삼식품 제조업', '기타 비알코올 음료 제조업'], dtype=object)"
      ]
     },
     "execution_count": 81,
     "metadata": {},
     "output_type": "execute_result"
    }
   ],
   "source": [
    "new['표준산업분류명'].unique()"
   ]
  },
  {
   "cell_type": "code",
   "execution_count": 82,
   "id": "a5b66950-5e17-4e8e-b6c0-628a74eb488a",
   "metadata": {},
   "outputs": [],
   "source": [
    "\n",
    "new = pd.read_csv('부산도소매업(전처리).csv', encoding='cp949')\n",
    "new_comp_name = list(new['표준산업분류명'].unique())\n",
    "new_comp_gugun = list(new['시군구명'].unique())\n",
    "    "
   ]
  },
  {
   "cell_type": "code",
   "execution_count": 83,
   "id": "e8f8f132-3a66-4659-9267-9f099fccd000",
   "metadata": {},
   "outputs": [
    {
     "data": {
      "text/plain": [
       "20"
      ]
     },
     "execution_count": 83,
     "metadata": {},
     "output_type": "execute_result"
    }
   ],
   "source": [
    "new['표준산업분류명'].nunique()"
   ]
  },
  {
   "cell_type": "code",
   "execution_count": null,
   "id": "cff6e68f-dd19-46f5-8853-1579121e196f",
   "metadata": {},
   "outputs": [],
   "source": [
    "new[new['시군구명'] == '동구']"
   ]
  },
  {
   "cell_type": "code",
   "execution_count": null,
   "id": "3b9206c8-3285-4c52-a06b-d86b4682cf89",
   "metadata": {},
   "outputs": [],
   "source": [
    "# selected_gugun = '동구'\n",
    "# selected_comp_name = '떡류 제조업'"
   ]
  },
  {
   "cell_type": "code",
   "execution_count": 84,
   "id": "9835be51-32c8-42bf-ae57-a610ece827b0",
   "metadata": {},
   "outputs": [],
   "source": [
    "def find_new_donors(selected_gugun, selected_comp_name):\n",
    "    find_new = new[(new['표준산업분류명'] == selected_comp_name) & (new['시군구명'] == selected_gugun)][['상호명', '표준산업분류명', '시군구명', '도로명주소','위도', '경도']]\n",
    "    return find_new"
   ]
  },
  {
   "cell_type": "code",
   "execution_count": 90,
   "id": "63195733-a2d5-4adb-9940-e432d3bfde1e",
   "metadata": {},
   "outputs": [],
   "source": [
    "df = find_new_donors('동구', '떡류 제조업')"
   ]
  },
  {
   "cell_type": "code",
   "execution_count": null,
   "id": "857dc6cc-4632-4532-a186-2565b1441ab3",
   "metadata": {},
   "outputs": [],
   "source": [
    "find_new_donors('동구', '떡류 제조업')[['위도', '경도']]"
   ]
  },
  {
   "cell_type": "code",
   "execution_count": null,
   "id": "2c9f1bb3-dd72-4224-9232-d0823c4fccbb",
   "metadata": {},
   "outputs": [],
   "source": [
    "find_new_donors_location(df)"
   ]
  },
  {
   "cell_type": "code",
   "execution_count": 124,
   "id": "6c9f98ae-3533-4d84-8be4-e9c69ad4b779",
   "metadata": {},
   "outputs": [],
   "source": [
    "bs_name = '동구'"
   ]
  },
  {
   "cell_type": "code",
   "execution_count": 117,
   "id": "a0941f30-9cd5-4698-bf2a-6227f1e51545",
   "metadata": {},
   "outputs": [
    {
     "data": {
      "text/html": [
       "<div>\n",
       "<style scoped>\n",
       "    .dataframe tbody tr th:only-of-type {\n",
       "        vertical-align: middle;\n",
       "    }\n",
       "\n",
       "    .dataframe tbody tr th {\n",
       "        vertical-align: top;\n",
       "    }\n",
       "\n",
       "    .dataframe thead th {\n",
       "        text-align: right;\n",
       "    }\n",
       "</style>\n",
       "<table border=\"1\" class=\"dataframe\">\n",
       "  <thead>\n",
       "    <tr style=\"text-align: right;\">\n",
       "      <th></th>\n",
       "      <th>구분</th>\n",
       "      <th>구군명</th>\n",
       "      <th>운영단체명</th>\n",
       "      <th>대표자</th>\n",
       "      <th>소재지</th>\n",
       "      <th>위도</th>\n",
       "      <th>경도</th>\n",
       "      <th>연락처</th>\n",
       "      <th>데이터기준일자</th>\n",
       "    </tr>\n",
       "  </thead>\n",
       "  <tbody>\n",
       "    <tr>\n",
       "      <th>32</th>\n",
       "      <td>푸드마켓</td>\n",
       "      <td>기장군</td>\n",
       "      <td>기장푸드마켓(사단법인 국제청소년복지연맹)</td>\n",
       "      <td>김진건</td>\n",
       "      <td>부산광역시 기장군 기장읍 차성남로 28</td>\n",
       "      <td>35.24119</td>\n",
       "      <td>129.211051</td>\n",
       "      <td>051-722-4006</td>\n",
       "      <td>2023-02-01</td>\n",
       "    </tr>\n",
       "  </tbody>\n",
       "</table>\n",
       "</div>"
      ],
      "text/plain": [
       "      구분  구군명                   운영단체명  대표자                    소재지        위도  \\\n",
       "32  푸드마켓  기장군  기장푸드마켓(사단법인 국제청소년복지연맹)  김진건  부산광역시 기장군 기장읍 차성남로 28  35.24119   \n",
       "\n",
       "            경도           연락처     데이터기준일자  \n",
       "32  129.211051  051-722-4006  2023-02-01  "
      ]
     },
     "execution_count": 117,
     "metadata": {},
     "output_type": "execute_result"
    }
   ],
   "source": [
    "map_df.tail(1)"
   ]
  },
  {
   "cell_type": "markdown",
   "id": "5944f4e4-6d00-47f9-9f3a-71794daa0f38",
   "metadata": {},
   "source": [
    "## 7. 지도에 시작 좌표 고정하기"
   ]
  },
  {
   "cell_type": "code",
   "execution_count": 127,
   "id": "0e640524-5748-4070-a59d-d95f9f42d4d6",
   "metadata": {},
   "outputs": [
    {
     "data": {
      "text/plain": [
       "'동구'"
      ]
     },
     "execution_count": 127,
     "metadata": {},
     "output_type": "execute_result"
    }
   ],
   "source": [
    "bs_name"
   ]
  },
  {
   "cell_type": "code",
   "execution_count": null,
   "id": "50912cc3-9d10-4fc0-ae61-dcda956aa6bf",
   "metadata": {},
   "outputs": [],
   "source": [
    "# 지도 찍기\n",
    "# 라이브러리\n",
    "import folium\n",
    "import webbrowser\n",
    "from folium import IFrame\n",
    "from folium.plugins import DualMap\n",
    "from folium.plugins import MarkerCluster\n",
    "\n",
    "map_df = pd.read_csv('부산광역시_푸드뱅크 및 푸드마켓 현황_20230201.csv', encoding='cp949')      \n",
    "new = pd.read_csv('부산도소매업(전처리).csv', encoding='cp949')\n",
    "new_comp_name = list(new['표준산업분류명'].unique())\n",
    "new_comp_gugun = list(new['시군구명'].unique())\n",
    "\n",
    "# # 맵 생성\n",
    "# map = folium.Map(location=[df['위도'].mean(), df['경도'].mean()], zoom_start=11)\n",
    "# 지도 객체 생성\n",
    "map = folium.Map(location=[map_df[(map_df['구군명'] == bs_name) & (map_df['구분'] == '푸드마켓')]['위도'], \n",
    "                           map_df[(map_df['구군명'] == bs_name) & (map_df['구분'] == '푸드마켓')]['경도']], \n",
    "                 zoom_start=13)\n",
    "\n",
    "# 시작 좌표 아이콘 추가\n",
    "folium.Marker(location=[map_df[(map_df['구군명'] == bs_name) & (map_df['구분'] == '푸드마켓')]['위도'], \n",
    "                           map_df[(map_df['구군명'] == bs_name) & (map_df['구분'] == '푸드마켓')]['경도']], \n",
    "              icon=folium.Icon(color='blue')).add_to(map)\n",
    "\n",
    "# # 데이터프레임의 각 위치에 마커 추가\n",
    "for i in df.index:\n",
    "    name = df.loc[i, '상호명']\n",
    "    gugun = df.loc[i, '시군구명']\n",
    "    location = df.loc[i, '도로명주소']\n",
    "    cls1 = df.loc[i, '표준산업분류명']\n",
    "\n",
    "    # 팝업 내용 지정(폰트 설정 등..)\n",
    "    popup_content = f'<div style=\"font-family: Arial, sans-serif; font-size: 14px;\"> [{i}]<br>{location}'\n",
    "\n",
    "    # IFrame을 사용하여 수평으로 표시되도록 팝업 설정\n",
    "    popup = folium.Popup(IFrame(html=popup_content, width=200, height=80))\n",
    "    # 두 번째 데이터 마커\n",
    "    \n",
    "    # 마커 생성 및 팝업 추가\n",
    "    marker = folium.Marker(\n",
    "            location=[df.loc[i, '위도'], df.loc[i, '경도']],\n",
    "            icon=folium.Icon(icon='cloud'),\n",
    "            popup=popup\n",
    "    )\n",
    "    marker.add_to(map)\n",
    "    \n",
    "# 출력\n",
    "map"
   ]
  },
  {
   "cell_type": "markdown",
   "id": "8db3460b-00ec-4722-80cc-f017c64713d3",
   "metadata": {},
   "source": [
    "## 8. 물품 연산 함수 만들기"
   ]
  },
  {
   "cell_type": "code",
   "execution_count": null,
   "id": "6623fe1f-df03-4147-b6e2-f4bb0db72248",
   "metadata": {},
   "outputs": [],
   "source": [
    "test = pd.read_csv('기부물품대분류(가짜데이터).csv', encoding='cp949')\n",
    "test"
   ]
  },
  {
   "cell_type": "code",
   "execution_count": null,
   "id": "a16491f5-4520-4ac6-a2f8-dbc0def55d85",
   "metadata": {},
   "outputs": [],
   "source": [
    "user_data = pd.read_excel('output3.xlsx')\n",
    "user_data.tail()"
   ]
  },
  {
   "cell_type": "code",
   "execution_count": null,
   "id": "2bf2204b-51a5-426a-b5e5-4fe2d4603411",
   "metadata": {},
   "outputs": [],
   "source": [
    "previous = len(user_data)\n"
   ]
  },
  {
   "cell_type": "code",
   "execution_count": null,
   "id": "d7521248-02e6-4b07-8f29-d32069d96d08",
   "metadata": {},
   "outputs": [],
   "source": [
    "user_data.info()"
   ]
  },
  {
   "cell_type": "code",
   "execution_count": null,
   "id": "df067d52-6acf-4006-8e42-88aae790af85",
   "metadata": {},
   "outputs": [],
   "source": [
    "user_data_group = user_data.groupby('기부물품대분류코드', as_index=False)['수량'].sum()\n",
    "user_data_group"
   ]
  },
  {
   "cell_type": "code",
   "execution_count": null,
   "id": "81dea1f1-7577-44bf-b2d2-318a8d6e3aaf",
   "metadata": {},
   "outputs": [],
   "source": [
    "test"
   ]
  },
  {
   "cell_type": "code",
   "execution_count": null,
   "id": "022845ed-ae67-4d9b-8573-b8bffab24485",
   "metadata": {},
   "outputs": [],
   "source": [
    "test.info()"
   ]
  },
  {
   "cell_type": "code",
   "execution_count": null,
   "id": "93be7a21-9606-486d-a74f-6baf5da280c0",
   "metadata": {},
   "outputs": [],
   "source": [
    "def inventory_cal(code_name):\n",
    "    test = pd.read_csv('기부물품대분류(가짜데이터).csv', encoding='cp949')\n",
    "    user_data = pd.read_excel('output3.xlsx')\n",
    "    user_data_group = user_data.groupby('기부물품대분류코드', as_index=False)['수량'].sum()\n",
    "    # 사용자 데이터에서 기부 품목 코드와 수량 추출\n",
    "    user_data_item_code = user_data_group['기부물품대분류코드']\n",
    "    user_data_quantity = user_data_group['수량']\n",
    "\n",
    "    # 테스트 데이터에서 기부 품목 코드와 수량 추출\n",
    "    test_item_code = test['기부물품대분류코드']\n",
    "    test_quantity = test['재고수량']\n",
    "\n",
    "    # 기부 품목 코드가 일치하는 경우에만 수량 뺄셈 연산 수행\n",
    "    result = test_quantity.copy()\n",
    "    for i in range(len(user_data_quantity)):\n",
    "        if user_data_item_code[i] in list(test_item_code):\n",
    "            idx = test_item_code[test_item_code.str.contains(user_data_item_code[i])].index[0]\n",
    "            # print(user_data_quantity[idx])\n",
    "            result[idx] -= user_data_quantity[i]\n",
    "            \n",
    "    test['재고수량'] = result\n",
    "    test.set_index(test.columns[0], inplace=True)\n",
    "    test_val = test.loc[code_name, '재고수량']\n",
    "    \n",
    "    return test_val"
   ]
  },
  {
   "cell_type": "code",
   "execution_count": null,
   "id": "50dc7a4d-a17d-4029-87c4-f8c932525f1f",
   "metadata": {},
   "outputs": [],
   "source": [
    "# 사용자 데이터에서 기부 품목 코드와 수량 추출\n",
    "user_data_item_code = user_data_group['기부물품대분류코드']\n",
    "user_data_quantity = user_data_group['수량']\n",
    "\n",
    "# 테스트 데이터에서 기부 품목 코드와 수량 추출\n",
    "test_item_code = test['기부물품대분류코드']\n",
    "test_quantity = test['재고수량']\n",
    "\n",
    "# 기부 품목 코드가 일치하는 경우에만 수량 뺄셈 연산 수행\n",
    "result = test_quantity.copy()\n",
    "for i in range(len(user_data_quantity)):\n",
    "    if user_data_item_code[i] in list(test_item_code):\n",
    "        idx = test_item_code[test_item_code.str.contains(user_data_item_code[i])].index[0]\n",
    "        # print(user_data_quantity[idx])\n",
    "        result[idx] -= user_data_quantity[i]\n",
    "        \n",
    "test['재고수량'] = result\n",
    "test"
   ]
  },
  {
   "cell_type": "code",
   "execution_count": null,
   "id": "5cfe45a6-ef65-4826-8b32-347f1b5bbf3e",
   "metadata": {},
   "outputs": [],
   "source": [
    "test.set_index(test.columns[0], inplace=True)\n",
    "test"
   ]
  },
  {
   "cell_type": "code",
   "execution_count": null,
   "id": "527e7275-db01-4640-9560-1e431226e55a",
   "metadata": {},
   "outputs": [],
   "source": [
    "test.loc[code_name, '재고수량']"
   ]
  },
  {
   "cell_type": "code",
   "execution_count": null,
   "id": "356e6eef-27c6-4c66-817b-0bdefb883f2f",
   "metadata": {},
   "outputs": [],
   "source": [
    "list(test_item_code)"
   ]
  },
  {
   "cell_type": "code",
   "execution_count": null,
   "id": "6969a250-d2f7-4162-bf93-199eca979eed",
   "metadata": {},
   "outputs": [],
   "source": [
    "if user_data_item_code[0] in test_item_code:\n",
    "    print(-1)\n",
    "else:\n",
    "    print(1)"
   ]
  },
  {
   "cell_type": "code",
   "execution_count": null,
   "id": "bb7fbc1b-dd84-41a9-a62a-bf52b607eb25",
   "metadata": {},
   "outputs": [],
   "source": [
    "# 이전에 계산된 결과를 유지하기 위한 변수\n",
    "previous_calculation = None\n",
    "\n",
    "def inventory_cal(code_name):\n",
    "    global previous_calculation\n",
    "\n",
    "    test = pd.read_csv('기부물품대분류(가짜데이터).csv', encoding='cp949')\n",
    "    user_data = pd.read_excel('output3.xlsx')\n",
    "\n",
    "    user_data_group = user_data.groupby('기부물품대분류코드', as_index=False)['수량'].sum()\n",
    "    \n",
    "    # 사용자 데이터에서 기부 품목 코드와 수량 추출\n",
    "    user_data_item_code = user_data_group['기부물품대분류코드']\n",
    "    user_data_quantity = user_data_group['수량']\n",
    "\n",
    "    # 이전에 계산된 결과가 없는 경우 전체 데이터셋을 읽어옴\n",
    "    if previous_calculation is None:\n",
    "        previous_calculation = test.copy()\n",
    "\n",
    "    # 새로운 행만 선택하여 다시 계산\n",
    "    for i in range(len(user_data_quantity)):\n",
    "        if user_data_item_code[i] in list(previous_calculation['기부물품대분류코드']):\n",
    "            idx = previous_calculation.index[previous_calculation['기부물품대분류코드'].str.contains(user_data_item_code[i])][0]\n",
    "            previous_quantity = previous_calculation.loc[idx, '재고수량']\n",
    "            previous_calculation.loc[idx, '재고수량'] = previous_quantity - user_data_quantity[i]\n",
    "\n",
    "    # 최종 데이터셋 반환\n",
    "    final_result = previous_calculation.loc[previous_calculation['기부물품대분류코드'] == code_name, '재고수량']\n",
    "    return final_result\n"
   ]
  },
  {
   "cell_type": "code",
   "execution_count": null,
   "id": "9791ac39-1812-4e09-a083-b6ba293e1324",
   "metadata": {},
   "outputs": [],
   "source": [
    "inventory_cal('스포츠용품')"
   ]
  },
  {
   "cell_type": "markdown",
   "id": "621f34e6-f8ae-457c-8d3b-b1c53df21c73",
   "metadata": {},
   "source": [
    "## 9. 사용한 모든 함수(클래스화)"
   ]
  },
  {
   "cell_type": "code",
   "execution_count": null,
   "id": "4200560d-7bfd-40bd-818c-dbaeeb85789b",
   "metadata": {},
   "outputs": [],
   "source": [
    "# 라이브러리\n",
    "import pandas as pd\n",
    "import streamlit as st\n",
    "import numpy as np\n",
    "# import plotly.express as px\n",
    "import os\n",
    "from urllib.parse import quote\n",
    "from streamlit_folium import st_folium\n",
    "import folium\n",
    "import seaborn as sns\n",
    "import folium\n",
    "import matplotlib.pyplot as plt\n",
    "from datetime import date\n",
    "from streamlit_folium import folium_static\n",
    "import re\n",
    "\n",
    "# 시각화 한글폰트 설정\n",
    "plt.rc('font', family='Malgun Gothic')\n",
    "sns.set(font=\"Malgun Gothic\",#\"NanumGothicCoding\", \n",
    "rc={\"axes.unicode_minus\":False}, # 마이너스 부호 깨짐 현상 해결\n",
    "style='darkgrid')\n",
    "\n",
    "class MyClass:\n",
    "    def __init__(self):\n",
    "        pass\n",
    "    \n",
    "    # 재고 수량 함수 1\n",
    "    def inventory(self, code_name):\n",
    "        test = pd.read_csv('기부물품대분류(가짜데이터).csv', encoding='cp949')\n",
    "        test.set_index(test.columns[0], inplace=True)\n",
    "        return test.loc[code_name, '재고수량']\n",
    "\n",
    "    # 재고 수량 계산 함수 2\n",
    "    # 계산은 가능하지만 새로운 데이터가 추가되었을 때는 그 파일을 사용하지 못하고 다른 새로운 파일을 사용해야한다.\n",
    "    # ---> 어떻게 해결해야하나? 방법을 모르겠네\n",
    "    # 해결 방법 : 데이터 셋을 하나 더 추가해서 변동된 제고를 새로 저장하면 됨 ㅅㄱ\n",
    "    def inventory_cal(self, code_name):\n",
    "        test = pd.read_csv('기부물품대분류(가짜데이터).csv', encoding='cp949')\n",
    "        user_data = pd.read_excel('output3.xlsx')\n",
    "\n",
    "        user_data_group = user_data.groupby('기부물품대분류코드', as_index=False)['수량'].sum()\n",
    "        # 사용자 데이터에서 기부 품목 코드와 수량 추출\n",
    "        user_data_item_code = user_data_group['기부물품대분류코드']\n",
    "        user_data_quantity = user_data_group['수량']\n",
    "\n",
    "        # 테스트 데이터에서 기부 품목 코드와 수량 추출\n",
    "        test_item_code = test['기부물품대분류코드']\n",
    "        test_quantity = test['재고수량']\n",
    "\n",
    "        # 기부 품목 코드가 일치하는 경우에만 수량 뺄셈 연산 수행\n",
    "        result = test_quantity.copy()\n",
    "        for i in range(len(user_data_quantity)):\n",
    "            if user_data_item_code[i] in list(test_item_code):\n",
    "                idx = test_item_code[test_item_code.str.contains(user_data_item_code[i])].index[0]\n",
    "                result[idx] -= user_data_quantity[i]\n",
    "\n",
    "        test['재고수량'] = result\n",
    "        test.set_index(test.columns[0], inplace=True)\n",
    "        test_val = test.loc[code_name, '재고수량']\n",
    "\n",
    "        return test_val\n",
    "\n",
    "    # 기부처 찾기 3\n",
    "    def donate(self, needs):\n",
    "        donate_info = pd.read_csv('3.부산기부자정보조회(2016~2021년).csv', encoding='cp949')\n",
    "        if needs == '신선식품':\n",
    "            matching = '식품 도,소매업'\n",
    "        elif needs == '일상용품':\n",
    "            matching = '즉선판매,제조가공업'\n",
    "        else:\n",
    "            matching = '기타'\n",
    "        donater = donate_info[donate_info['기부사업장종류코드'] == matching]\n",
    "        donater_list = list(donater['기부자명'].unique())\n",
    "        return donater_list\n",
    "\n",
    "    # 부산 기부처 목록 4\n",
    "    def find_busan_donors(self, search):\n",
    "        busan_donors = pd.read_csv('부산기부처목록.csv', encoding='cp949')\n",
    "        return busan_donors[busan_donors['기부자명'].str.contains(search)]\n",
    "\n",
    "    # 기부처 발굴 5\n",
    "    def find_new_donors(self, selected_gugun, selected_comp_name):\n",
    "        find_new = new[(new['표준산업분류명'] == selected_comp_name) & (new['시군구명'] == selected_gugun)][['상호명', '표준산업분류명', '시군구명', '도로명주소','위도', '경도']]\n",
    "        find_new = find_new.reset_index(drop=True)\n",
    "        return find_new\n",
    "\n",
    "    # 지도 함수 6\n",
    "    def find_new_donors_location(self, df):\n",
    "        # 라이브러리\n",
    "        import folium\n",
    "        import webbrowser\n",
    "        from folium import IFrame\n",
    "        import urllib.parse\n",
    "\n",
    "        # 맵 생성\n",
    "        map = folium.Map(location=[df['위도'].mean(), df['경도'].mean()], zoom_start=11)\n",
    "\n",
    "            # 데이터프레임의 각 위치에 마커 추가\n",
    "        for i in df.index:\n",
    "            name = df.loc[i, '상호명']\n",
    "            gugun = df.loc[i, '시군구명']\n",
    "            location = df.loc[i, '도로명주소']\n",
    "            cls1 = df.loc[i, '표준산업분류명']\n",
    "\n",
    "            # 네이버 검색 결과 링크 생성\n",
    "            encoded_name = urllib.parse.quote(name)\n",
    "            naver_search_link = f'https://search.naver.com/search.naver?query={encoded_name}&sm=top_hty&fbm=1&ie=utf8'\n",
    "\n",
    "            # 팝업 내용 생성\n",
    "            popup_content = f'<div style=\"font-family: Arial, sans-serif; font-size: 14px;\"> \\\n",
    "            상호명 : <a href=\"{naver_search_link}\" target=\"_blank\"> {name}</a><br>{location}</div>'\n",
    "            popup = folium.Popup(popup_content, max_width=250)\n",
    "\n",
    "            # IFrame을 사용하여 수평으로 표시되도록 팝업 설정\n",
    "            popup = folium.Popup(IFrame(html=popup_content, width=200, height=80))\n",
    "\n",
    "            # 마커 생성 및 팝업 추가\n",
    "            marker = folium.Marker(\n",
    "                    location=[df.loc[i, '위도'], df.loc[i, '경도']],\n",
    "                    icon=folium.Icon(icon='home', color='red'),\n",
    "                    popup=popup\n",
    "            )\n",
    "            marker.add_to(map)\n",
    "\n",
    "\n",
    "        # 출력 화면에 맵 열기\n",
    "        return folium_static(map)\n",
    "\n",
    "    # 구 별 최다 기부처 그래프 Top20 함수 7\n",
    "    def grouping_gugun_graph20(self, gu):\n",
    "\n",
    "\n",
    "        top20 = group_gugun_data1[group_gugun_data1['통합시군구코드'] == gu].sort_values('기부건수', ascending=False).head(20)\n",
    "        fig = plt.figure()\n",
    "        fig.set_dpi(300) # DPI 값을 조정하여 레티나 품질로 설정\n",
    "        sns.barplot(data=top20, x='기부건수', y='기부자명')\n",
    "        plt.title('기부건수 별')\n",
    "        plt.show()\n",
    "\n",
    "        return st.pyplot(fig)\n",
    "\n",
    "\n",
    "    # 금액 별 그래프 함수 8\n",
    "    def grouping_gugun_money_graph20(self, gu):\n",
    "\n",
    "        top20 = group_gugun_data2[group_gugun_data2['통합시군구코드'] == gu].sort_values('기부금액', ascending=False).head(20)\n",
    "        fig = plt.figure()\n",
    "        fig.set_dpi(300) # DPI 값을 조정하여 레티나 품질로 설정\n",
    "        sns.barplot(data=top20, x='기부금액', y='기부자명')\n",
    "        plt.title('기부금액 별')\n",
    "        plt.show()\n",
    "\n",
    "        return st.pyplot(fig)\n",
    "\n",
    "p = MyClass()"
   ]
  },
  {
   "cell_type": "markdown",
   "id": "f76dcf7c-a71c-4fc0-b840-fecd41404818",
   "metadata": {},
   "source": [
    "### datetime 타입 변경하기\n",
    "- 당일 총 이용자 계산을 위해 날짜를 기준으로 함."
   ]
  },
  {
   "cell_type": "code",
   "execution_count": null,
   "id": "c8d5b99f-b2a7-438c-a673-e5050976672b",
   "metadata": {},
   "outputs": [],
   "source": [
    "user_data = pd.read_excel('output3.xlsx')\n",
    "user_data.head()"
   ]
  },
  {
   "cell_type": "code",
   "execution_count": null,
   "id": "098ac850-3f89-406d-a117-36e5d22ee72c",
   "metadata": {},
   "outputs": [],
   "source": [
    "today_object = today.strftime('%Y-%m-%d')\n",
    "today_object\n",
    "count = user_data['날짜'].str.replace('.', '-')\n",
    "cnt = 0\n",
    "for i in count:\n",
    "    if i == today_object:\n",
    "        cnt += 1\n",
    "cnt"
   ]
  },
  {
   "cell_type": "code",
   "execution_count": null,
   "id": "19279cb1-de42-4143-aaa0-e97371704237",
   "metadata": {},
   "outputs": [],
   "source": []
  }
 ],
 "metadata": {
  "kernelspec": {
   "display_name": "Python 3 (ipykernel)",
   "language": "python",
   "name": "python3"
  },
  "language_info": {
   "codemirror_mode": {
    "name": "ipython",
    "version": 3
   },
   "file_extension": ".py",
   "mimetype": "text/x-python",
   "name": "python",
   "nbconvert_exporter": "python",
   "pygments_lexer": "ipython3",
   "version": "3.9.13"
  }
 },
 "nbformat": 4,
 "nbformat_minor": 5
}
